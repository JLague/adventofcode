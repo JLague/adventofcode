{
 "cells": [
  {
   "cell_type": "markdown",
   "metadata": {},
   "source": [
    "# Day 2 - 2022"
   ]
  },
  {
   "cell_type": "markdown",
   "metadata": {},
   "source": [
    "## Preamble"
   ]
  },
  {
   "cell_type": "code",
   "execution_count": 4,
   "metadata": {},
   "outputs": [],
   "source": [
    "code = {\n",
    "    'A' : 0,\n",
    "    'B' : 1,\n",
    "    'C' : 2,\n",
    "    'X' : 0,\n",
    "    'Y' : 1,\n",
    "    'Z' : 2\n",
    "}\n",
    "\n",
    "win_mat = [\n",
    "    [-1, 1, 0],\n",
    "    [1, -1, 2],\n",
    "    [0, 2, -1]\n",
    "]\n",
    "\n",
    "with open('input') as f:\n",
    "    data = f.readlines()"
   ]
  },
  {
   "cell_type": "markdown",
   "metadata": {},
   "source": [
    "## Part 1"
   ]
  },
  {
   "cell_type": "code",
   "execution_count": 5,
   "metadata": {},
   "outputs": [
    {
     "name": "stdout",
     "output_type": "stream",
     "text": [
      "11150\n"
     ]
    }
   ],
   "source": [
    "code = {\n",
    "    'A' : 0,\n",
    "    'B' : 1,\n",
    "    'C' : 2,\n",
    "    'X' : 0,\n",
    "    'Y' : 1,\n",
    "    'Z' : 2\n",
    "}\n",
    "\n",
    "score = 0\n",
    "\n",
    "for pair in data:\n",
    "    opponent, response = map(lambda x : code[x], pair.split())\n",
    "    winner = win_mat[opponent][response]\n",
    "\n",
    "    if winner == response:\n",
    "        score += 6\n",
    "    elif winner == -1:\n",
    "        score += 3\n",
    "    \n",
    "    score += response + 1\n",
    "\n",
    "print(score)\n",
    "        \n"
   ]
  },
  {
   "cell_type": "markdown",
   "metadata": {},
   "source": [
    "## Part 2"
   ]
  },
  {
   "cell_type": "code",
   "execution_count": 6,
   "metadata": {},
   "outputs": [
    {
     "name": "stdout",
     "output_type": "stream",
     "text": [
      "8295\n"
     ]
    }
   ],
   "source": [
    "code = {\n",
    "    'A' : 0,\n",
    "    'B' : 1,\n",
    "    'C' : 2,\n",
    "    'X' : 0,\n",
    "    'Y' : 1,\n",
    "    'Z' : 2\n",
    "}\n",
    "\n",
    "def guess(opponent, response):\n",
    "    if response == 0:\n",
    "        for col in range(len(win_mat[opponent])):\n",
    "            if win_mat[opponent][col] == opponent:\n",
    "                return col, 0\n",
    "    \n",
    "    if response == 1:\n",
    "        return opponent, 3\n",
    "    \n",
    "    for col in range(len(win_mat[opponent])):\n",
    "        if win_mat[opponent][col] not in [opponent, -1]:\n",
    "            return col, 6\n",
    "    \n",
    "\n",
    "score = 0\n",
    "\n",
    "for pair in data:\n",
    "    opponent, response = map(lambda x : code[x], pair.split())\n",
    "    choice, outcome = guess(opponent, response)\n",
    "    score += choice + outcome + 1\n",
    "\n",
    "print(score)\n",
    "\n",
    "\n",
    "\n"
   ]
  }
 ],
 "metadata": {
  "kernelspec": {
   "display_name": "Python 3.10.6 ('.venv': venv)",
   "language": "python",
   "name": "python3"
  },
  "language_info": {
   "codemirror_mode": {
    "name": "ipython",
    "version": 3
   },
   "file_extension": ".py",
   "mimetype": "text/x-python",
   "name": "python",
   "nbconvert_exporter": "python",
   "pygments_lexer": "ipython3",
   "version": "3.10.6"
  },
  "orig_nbformat": 4,
  "vscode": {
   "interpreter": {
    "hash": "65ee6eb9c05fc3d7e066ceafc74d38abfc79e1054a4da3c45185b2b6b92ebaae"
   }
  }
 },
 "nbformat": 4,
 "nbformat_minor": 2
}
