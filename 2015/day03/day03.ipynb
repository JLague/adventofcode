{
 "cells": [
  {
   "cell_type": "markdown",
   "metadata": {},
   "source": [
    "# Day 3 - 2015"
   ]
  },
  {
   "cell_type": "markdown",
   "metadata": {},
   "source": [
    "## Preamble"
   ]
  },
  {
   "cell_type": "code",
   "execution_count": 1,
   "metadata": {},
   "outputs": [],
   "source": [
    "with open('input') as f:\n",
    "    data = f.read()"
   ]
  },
  {
   "cell_type": "markdown",
   "metadata": {},
   "source": [
    "## Part 1"
   ]
  },
  {
   "cell_type": "code",
   "execution_count": 5,
   "metadata": {},
   "outputs": [
    {
     "name": "stdout",
     "output_type": "stream",
     "text": [
      "2572\n"
     ]
    }
   ],
   "source": [
    "visited = set()\n",
    "x, y = 0, 0\n",
    "visited.add((x, y))\n",
    "\n",
    "for c in data:\n",
    "    if c == '^':\n",
    "        y += 1\n",
    "    elif c == 'v':\n",
    "        y -= 1\n",
    "    elif c == '<':\n",
    "        x -= 1\n",
    "    elif c == '>':\n",
    "        x += 1\n",
    "    visited.add((x, y))\n",
    "\n",
    "print(len(visited))"
   ]
  },
  {
   "cell_type": "markdown",
   "metadata": {},
   "source": [
    "## Part 2"
   ]
  },
  {
   "cell_type": "code",
   "execution_count": 7,
   "metadata": {},
   "outputs": [
    {
     "name": "stdout",
     "output_type": "stream",
     "text": [
      "2631\n"
     ]
    }
   ],
   "source": [
    "visited = set()\n",
    "x1, y1 = 0, 0\n",
    "x2, y2 = 0, 0\n",
    "visited.add((x1, y1))\n",
    "real_santa = True\n",
    "\n",
    "for c in data:\n",
    "    dx = 0\n",
    "    dy = 0\n",
    "    if c == '^':\n",
    "        dy = 1\n",
    "    elif c == 'v':\n",
    "        dy = -1\n",
    "    elif c == '<':\n",
    "        dx = -1\n",
    "    elif c == '>':\n",
    "        dx = +1\n",
    "\n",
    "    if real_santa:\n",
    "        x1 += dx\n",
    "        y1 += dy\n",
    "        visited.add((x1, y1))\n",
    "    else:\n",
    "        x2 += dx\n",
    "        y2 += dy\n",
    "        visited.add((x2, y2))\n",
    "    real_santa = not real_santa\n",
    "    \n",
    "print(len(visited))"
   ]
  }
 ],
 "metadata": {
  "kernelspec": {
   "display_name": "Python 3.10.8 64-bit",
   "language": "python",
   "name": "python3"
  },
  "language_info": {
   "codemirror_mode": {
    "name": "ipython",
    "version": 3
   },
   "file_extension": ".py",
   "mimetype": "text/x-python",
   "name": "python",
   "nbconvert_exporter": "python",
   "pygments_lexer": "ipython3",
   "version": "3.10.8"
  },
  "orig_nbformat": 4,
  "vscode": {
   "interpreter": {
    "hash": "e7370f93d1d0cde622a1f8e1c04877d8463912d04d973331ad4851f04de6915a"
   }
  }
 },
 "nbformat": 4,
 "nbformat_minor": 2
}
